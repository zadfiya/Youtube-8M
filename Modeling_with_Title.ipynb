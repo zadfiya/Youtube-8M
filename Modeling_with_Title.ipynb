{
 "cells": [
  {
   "cell_type": "code",
   "execution_count": 132,
   "metadata": {},
   "outputs": [],
   "source": [
    "import warnings\n",
    "warnings.filterwarnings(\"ignore\")\n",
    "import pandas as pd\n",
    "import numpy as np\n",
    "import matplotlib.pyplot as plt\n",
    "from bs4 import BeautifulSoup\n",
    "import string\n",
    "from numpy import nan\n",
    "from sklearn.model_selection import train_test_split\n",
    "from sklearn.feature_extraction.text import TfidfVectorizer\n",
    "import scikitplot"
   ]
  },
  {
   "cell_type": "code",
   "execution_count": 92,
   "metadata": {},
   "outputs": [],
   "source": [
    "data = pd.read_csv('cleaned_data.csv')"
   ]
  },
  {
   "cell_type": "code",
   "execution_count": 93,
   "metadata": {},
   "outputs": [
    {
     "data": {
      "text/html": [
       "<div>\n",
       "<style scoped>\n",
       "    .dataframe tbody tr th:only-of-type {\n",
       "        vertical-align: middle;\n",
       "    }\n",
       "\n",
       "    .dataframe tbody tr th {\n",
       "        vertical-align: top;\n",
       "    }\n",
       "\n",
       "    .dataframe thead th {\n",
       "        text-align: right;\n",
       "    }\n",
       "</style>\n",
       "<table border=\"1\" class=\"dataframe\">\n",
       "  <thead>\n",
       "    <tr style=\"text-align: right;\">\n",
       "      <th></th>\n",
       "      <th>Unnamed: 0</th>\n",
       "      <th>Video Id</th>\n",
       "      <th>Title</th>\n",
       "      <th>Description</th>\n",
       "      <th>Category</th>\n",
       "    </tr>\n",
       "  </thead>\n",
       "  <tbody>\n",
       "    <tr>\n",
       "      <th>0</th>\n",
       "      <td>0</td>\n",
       "      <td>ehmsJLZlCZ0</td>\n",
       "      <td>ep travelling through north east india off to ...</td>\n",
       "      <td>the journey to arunachal north east india begi...</td>\n",
       "      <td>travel</td>\n",
       "    </tr>\n",
       "    <tr>\n",
       "      <th>1</th>\n",
       "      <td>1</td>\n",
       "      <td>e2NQE41J5eM</td>\n",
       "      <td>how do i travel so much how do i earn money</td>\n",
       "      <td>subscribe mountaintrekker gimbal if you have a...</td>\n",
       "      <td>travel</td>\n",
       "    </tr>\n",
       "    <tr>\n",
       "      <th>2</th>\n",
       "      <td>2</td>\n",
       "      <td>i9E_Blai8vk</td>\n",
       "      <td>travel vlog welcome to bali priscilla lee</td>\n",
       "      <td>i had the chance to fly out to bali with my wh...</td>\n",
       "      <td>travel</td>\n",
       "    </tr>\n",
       "    <tr>\n",
       "      <th>3</th>\n",
       "      <td>3</td>\n",
       "      <td>-LzdIILq5vE</td>\n",
       "      <td>goa travel diary four days in goa travel outfi...</td>\n",
       "      <td>hope you enjoy my goa travel diary this video ...</td>\n",
       "      <td>travel</td>\n",
       "    </tr>\n",
       "    <tr>\n",
       "      <th>4</th>\n",
       "      <td>4</td>\n",
       "      <td>7ByoBJYXU0k</td>\n",
       "      <td>steps to becoming a travel blogger</td>\n",
       "      <td>travel blogger nikki vargas of the pin the map...</td>\n",
       "      <td>travel</td>\n",
       "    </tr>\n",
       "  </tbody>\n",
       "</table>\n",
       "</div>"
      ],
      "text/plain": [
       "   Unnamed: 0     Video Id                                              Title  \\\n",
       "0           0  ehmsJLZlCZ0  ep travelling through north east india off to ...   \n",
       "1           1  e2NQE41J5eM        how do i travel so much how do i earn money   \n",
       "2           2  i9E_Blai8vk          travel vlog welcome to bali priscilla lee   \n",
       "3           3  -LzdIILq5vE  goa travel diary four days in goa travel outfi...   \n",
       "4           4  7ByoBJYXU0k                 steps to becoming a travel blogger   \n",
       "\n",
       "                                         Description Category  \n",
       "0  the journey to arunachal north east india begi...   travel  \n",
       "1  subscribe mountaintrekker gimbal if you have a...   travel  \n",
       "2  i had the chance to fly out to bali with my wh...   travel  \n",
       "3  hope you enjoy my goa travel diary this video ...   travel  \n",
       "4  travel blogger nikki vargas of the pin the map...   travel  "
      ]
     },
     "execution_count": 93,
     "metadata": {},
     "output_type": "execute_result"
    }
   ],
   "source": [
    "data.head()"
   ]
  },
  {
   "cell_type": "code",
   "execution_count": 94,
   "metadata": {},
   "outputs": [
    {
     "data": {
      "text/plain": [
       "Unnamed: 0      int64\n",
       "Video Id       object\n",
       "Title          object\n",
       "Description    object\n",
       "Category       object\n",
       "dtype: object"
      ]
     },
     "execution_count": 94,
     "metadata": {},
     "output_type": "execute_result"
    }
   ],
   "source": [
    "data.dtypes"
   ]
  },
  {
   "cell_type": "markdown",
   "metadata": {},
   "source": [
    "### deviding the data into train test and validation using 80: 10 :10"
   ]
  },
  {
   "cell_type": "code",
   "execution_count": 95,
   "metadata": {},
   "outputs": [],
   "source": [
    "X_train,X_test,y_train,y_test = train_test_split(data['Title'].values,data['Category'].values, test_size=.1)\n",
    "X_train,X_cv,y_train,y_cv = train_test_split(X_train,y_train, test_size=.1)"
   ]
  },
  {
   "cell_type": "code",
   "execution_count": 96,
   "metadata": {},
   "outputs": [
    {
     "data": {
      "text/plain": [
       "array(['rick ross aston martin music ft drake chrisette michele official video',\n",
       "       'introduction to lean manufacturing',\n",
       "       'first opium war trade deficits and the macartney embassy extra history',\n",
       "       ..., 'end game theatre reaction',\n",
       "       'das ultimative home theatre setup htpc selber bauen und die passende peripherie',\n",
       "       'islam the quran and the five pillars all without a flamewar crash course world history'],\n",
       "      dtype=object)"
      ]
     },
     "execution_count": 96,
     "metadata": {},
     "output_type": "execute_result"
    }
   ],
   "source": [
    "X_train"
   ]
  },
  {
   "cell_type": "code",
   "execution_count": 99,
   "metadata": {},
   "outputs": [],
   "source": [
    "count = 0 \n",
    "for v in X_train:\n",
    "    if type(v)!=str:\n",
    "        X_train[count] = 'x'\n",
    "    count+=1"
   ]
  },
  {
   "cell_type": "code",
   "execution_count": 100,
   "metadata": {},
   "outputs": [],
   "source": [
    "count = 0 \n",
    "for v in X_test:\n",
    "    if type(v)!=str:\n",
    "        X_test[count] = 'x'\n",
    "    count+=1"
   ]
  },
  {
   "cell_type": "code",
   "execution_count": 101,
   "metadata": {},
   "outputs": [],
   "source": [
    "count = 0 \n",
    "for v in X_cv:\n",
    "    if type(v)!=str:\n",
    "        X_cv[count] = 'x'\n",
    "    count+=1"
   ]
  },
  {
   "cell_type": "markdown",
   "metadata": {},
   "source": [
    "### converting the Title into numerical vector using tf-idf"
   ]
  },
  {
   "cell_type": "code",
   "execution_count": 102,
   "metadata": {},
   "outputs": [],
   "source": [
    "tfidf = TfidfVectorizer()\n",
    "x_train = tfidf.fit_transform(X_train)\n",
    "x_test = tfidf.transform(X_test)\n",
    "x_cv = tfidf.transform(X_cv)"
   ]
  },
  {
   "cell_type": "markdown",
   "metadata": {},
   "source": [
    "### applying Logistic Regression over the title:"
   ]
  },
  {
   "cell_type": "code",
   "execution_count": 105,
   "metadata": {},
   "outputs": [],
   "source": [
    "from sklearn.linear_model import LogisticRegression as LR\n",
    "from sklearn.metrics import accuracy_score"
   ]
  },
  {
   "cell_type": "code",
   "execution_count": 123,
   "metadata": {},
   "outputs": [
    {
     "name": "stdout",
     "output_type": "stream",
     "text": [
      "C ---------> CV Accuracy ********** Train Accuracy\n",
      "0.001 ---------> 0.9268817204301075 ********** 0.9281873581073008\n",
      "0.01 ---------> 0.967741935483871 ********** 0.9645118891145895\n",
      "0.1 ---------> 0.9827956989247312 ********** 0.9787310311865217\n",
      "1 ---------> 0.9913978494623656 ********** 0.992352730314255\n",
      "10 ---------> 0.989247311827957 ********** 0.9973712510455252\n",
      "100 ---------> 0.9881720430107527 ********** 0.9978492054008842\n",
      "1000 ---------> 0.9881720430107527 ********** 0.9978492054008842\n"
     ]
    }
   ],
   "source": [
    "train_acc = []\n",
    "cv_acc = []\n",
    "print(\"C ---------> CV Accuracy ********** Train Accuracy\")\n",
    "for c in [.001,.01,.1,1,10,100,1000]:\n",
    "    model = LR(C=c)\n",
    "    model.fit(x_train,y_train)\n",
    "    y_pre = model.predict(x_cv)\n",
    "    y_pre1 = model.predict(x_train)\n",
    "    acc = accuracy_score(y_cv,y_pre)\n",
    "    acc1 = accuracy_score(y_train,y_pre1)\n",
    "    print(c,\"--------->\",acc,\"**********\",acc1)\n",
    "    cv_acc.append(acc)\n",
    "    train_acc.append(acc1)"
   ]
  },
  {
   "cell_type": "code",
   "execution_count": 128,
   "metadata": {},
   "outputs": [
    {
     "data": {
      "image/png": "[encoded data removed]",
      "text/plain": [
       "<Figure size 432x288 with 1 Axes>"
      ]
     },
     "metadata": {
      "needs_background": "light"
     },
     "output_type": "display_data"
    }
   ],
   "source": [
    "plt.plot(cv_acc,marker='o')\n",
    "plt.plot(train_acc,marker = 'o')\n",
    "plt.xlabel(\"C\")\n",
    "plt.ylabel(\"Accuracy\")\n",
    "plt.title(\"Train and Test Accuracy Variation with C\")\n",
    "plt.xticks(np.arange(7),[.001,.01,.1,1,10,100])\n",
    "plt.legend([\"Cross-Validation Accuracy\",\"Training Accuracy\"])\n",
    "plt.show()"
   ]
  },
  {
   "cell_type": "markdown",
   "metadata": {},
   "source": [
    "- from the above plot we can see that at C=1, our model's cv accuracy is equivalent to train accuracy but after that it start overfitting so we will choose C = 1 for the final modeling"
   ]
  },
  {
   "cell_type": "markdown",
   "metadata": {},
   "source": [
    "### Final Evaluation on the test data"
   ]
  },
  {
   "cell_type": "code",
   "execution_count": 131,
   "metadata": {},
   "outputs": [
    {
     "name": "stdout",
     "output_type": "stream",
     "text": [
      "Training Accuracy of the Model 0.992352730314255\n",
      "Test Accuracy of the Model 0.9787234042553191\n"
     ]
    }
   ],
   "source": [
    "model = LR(C=1)\n",
    "model.fit(x_train,y_train)\n",
    "y_pre = model.predict(x_test)\n",
    "y_pre1 = model.predict(x_train)\n",
    "acc = accuracy_score(y_test,y_pre)\n",
    "acc1 = accuracy_score(y_train,y_pre1)\n",
    "print(\"Training Accuracy of the Model\",acc1)\n",
    "print(\"Test Accuracy of the Model\",acc)"
   ]
  },
  {
   "cell_type": "markdown",
   "metadata": {},
   "source": [
    "### confusion matrix for test dataset"
   ]
  },
  {
   "cell_type": "code",
   "execution_count": 139,
   "metadata": {},
   "outputs": [
    {
     "data": {
      "image/png": "[encoded data removed]",
      "text/plain": [
       "<Figure size 432x288 with 2 Axes>"
      ]
     },
     "metadata": {
      "needs_background": "light"
     },
     "output_type": "display_data"
    }
   ],
   "source": [
    "scikitplot.metrics.plot_confusion_matrix(y_test, y_pre,x_tick_rotation=90)\n",
    "plt.show()"
   ]
  },
  {
   "cell_type": "markdown",
   "metadata": {},
   "source": [
    "### confusion matrix for train dataset"
   ]
  },
  {
   "cell_type": "code",
   "execution_count": 138,
   "metadata": {},
   "outputs": [
    {
     "data": {
      "image/png": "[encoded data removed]",
      "text/plain": [
       "<Figure size 432x288 with 2 Axes>"
      ]
     },
     "metadata": {
      "needs_background": "light"
     },
     "output_type": "display_data"
    }
   ],
   "source": [
    "scikitplot.metrics.plot_confusion_matrix(y_train, y_pre1,x_tick_rotation=90)\n",
    "plt.show()"
   ]
  },
  {
   "cell_type": "markdown",
   "metadata": {},
   "source": [
    "## Apply XGboost model"
   ]
  },
  {
   "cell_type": "code",
   "execution_count": 147,
   "metadata": {},
   "outputs": [],
   "source": [
    "from xgboost import XGBClassifier\n",
    "from sklearn.ensemble import RandomForestClassifier as RF"
   ]
  },
  {
   "cell_type": "code",
   "execution_count": 160,
   "metadata": {},
   "outputs": [
    {
     "name": "stdout",
     "output_type": "stream",
     "text": [
      "Min Split---n_estimators---max_depth---> Train Accuracy ********** Cross-Val Accuracy\n",
      "2 ------------ 20 --- 10 --->  0.8860078862468634  ********** 0.889247311827957\n",
      "**************************************************\n",
      "2 ------------ 20 --- 11 --->  0.9065599235273032  ********** 0.9096774193548387\n",
      "**************************************************\n",
      "2 ------------ 20 --- 12 --->  0.9290237782291791  ********** 0.9419354838709677\n",
      "**************************************************\n",
      "2 ------------ 40 --- 10 --->  0.9532799617636516  ********** 0.9602150537634409\n",
      "**************************************************\n",
      "2 ------------ 40 --- 11 --->  0.9604492770940375  ********** 0.9591397849462365\n",
      "**************************************************\n",
      "2 ------------ 40 --- 12 --->  0.9641534233480703  ********** 0.9666666666666667\n",
      "**************************************************\n",
      "2 ------------ 60 --- 10 --->  0.9614051858047556  ********** 0.9559139784946237\n",
      "**************************************************\n",
      "2 ------------ 60 --- 11 --->  0.9631975146373521  ********** 0.964516129032258\n",
      "**************************************************\n",
      "2 ------------ 60 --- 12 --->  0.9712032500896164  ********** 0.978494623655914\n",
      "**************************************************\n",
      "2 ------------ 80 --- 10 --->  0.966304217947186  ********** 0.9731182795698925\n",
      "**************************************************\n",
      "2 ------------ 80 --- 11 --->  0.9669016608913849  ********** 0.9741935483870968\n",
      "**************************************************\n",
      "2 ------------ 80 --- 12 --->  0.9743099533994504  ********** 0.975268817204301\n",
      "**************************************************\n",
      "2 ------------ 100 --- 10 --->  0.9682160353686223  ********** 0.9731182795698925\n",
      "**************************************************\n",
      "2 ------------ 100 --- 11 --->  0.9672601266579042  ********** 0.9666666666666667\n",
      "**************************************************\n",
      "2 ------------ 100 --- 12 --->  0.9740709762217709  ********** 0.9827956989247312\n",
      "**************************************************\n",
      "2 ------------ 125 --- 10 --->  0.973473533277572  ********** 0.9817204301075269\n",
      "**************************************************\n",
      "2 ------------ 125 --- 11 --->  0.9670211494802247  ********** 0.9731182795698925\n",
      "**************************************************\n",
      "2 ------------ 125 --- 12 --->  0.9716812044449755  ********** 0.9817204301075269\n",
      "**************************************************\n",
      "2 ------------ 150 --- 10 --->  0.9726371131556937  ********** 0.978494623655914\n",
      "**************************************************\n",
      "2 ------------ 150 --- 11 --->  0.9725176245668539  ********** 0.9741935483870968\n",
      "**************************************************\n",
      "2 ------------ 150 --- 12 --->  0.9762217708208866  ********** 0.975268817204301\n",
      "**************************************************\n",
      "2 ------------ 180 --- 10 --->  0.9674991038355837  ********** 0.9709677419354839\n",
      "**************************************************\n",
      "2 ------------ 180 --- 11 --->  0.9712032500896164  ********** 0.9720430107526882\n",
      "**************************************************\n",
      "2 ------------ 180 --- 12 --->  0.9710837615007767  ********** 0.9741935483870968\n",
      "**************************************************\n",
      "2 ------------ 200 --- 10 --->  0.9702473413788983  ********** 0.9774193548387097\n",
      "**************************************************\n",
      "2 ------------ 200 --- 11 --->  0.9737125104552515  ********** 0.9817204301075269\n",
      "**************************************************\n",
      "2 ------------ 200 --- 12 --->  0.9766997251762457  ********** 0.975268817204301\n",
      "**************************************************\n",
      "3 ------------ 20 --- 10 --->  0.8878002150794599  ********** 0.8838709677419355\n",
      "**************************************************\n",
      "3 ------------ 20 --- 11 --->  0.9217349743099534  ********** 0.932258064516129\n",
      "**************************************************\n",
      "3 ------------ 20 --- 12 --->  0.8650973831999044  ********** 0.8548387096774194\n",
      "**************************************************\n",
      "3 ------------ 40 --- 10 --->  0.9464691121997849  ********** 0.953763440860215\n",
      "**************************************************\n",
      "3 ------------ 40 --- 11 --->  0.954594336240889  ********** 0.964516129032258\n",
      "**************************************************\n",
      "3 ------------ 40 --- 12 --->  0.9490978611542598  ********** 0.9419354838709677\n",
      "**************************************************\n",
      "3 ------------ 60 --- 10 --->  0.9567451308400048  ********** 0.9612903225806452\n",
      "**************************************************\n",
      "3 ------------ 60 --- 11 --->  0.9667821723025452  ********** 0.9688172043010753\n",
      "**************************************************\n",
      "3 ------------ 60 --- 12 --->  0.9605687656828773  ********** 0.9741935483870968\n",
      "**************************************************\n",
      "3 ------------ 80 --- 10 --->  0.9600908113275182  ********** 0.9612903225806452\n",
      "**************************************************\n",
      "3 ------------ 80 --- 11 --->  0.966304217947186  ********** 0.9763440860215054\n",
      "**************************************************\n",
      "3 ------------ 80 --- 12 --->  0.9676185924244235  ********** 0.9634408602150538\n",
      "**************************************************\n",
      "3 ------------ 100 --- 10 --->  0.9676185924244235  ********** 0.9720430107526882\n",
      "**************************************************\n",
      "3 ------------ 100 --- 11 --->  0.9704863185565779  ********** 0.9720430107526882\n",
      "**************************************************\n",
      "3 ------------ 100 --- 12 --->  0.973473533277572  ********** 0.9838709677419355\n",
      "**************************************************\n",
      "3 ------------ 125 --- 10 --->  0.9639144461703907  ********** 0.9634408602150538\n",
      "**************************************************\n",
      "3 ------------ 125 --- 11 --->  0.9708447843230972  ********** 0.978494623655914\n",
      "**************************************************\n",
      "3 ------------ 125 --- 12 --->  0.969888875612379  ********** 0.9688172043010753\n",
      "**************************************************\n",
      "3 ------------ 150 --- 10 --->  0.96941092125702  ********** 0.9698924731182795\n",
      "**************************************************\n",
      "3 ------------ 150 --- 11 --->  0.9706058071454177  ********** 0.9774193548387097\n",
      "**************************************************\n",
      "3 ------------ 150 --- 12 --->  0.9744294419882901  ********** 0.975268817204301\n",
      "**************************************************\n",
      "3 ------------ 180 --- 10 --->  0.9671406380690644  ********** 0.9774193548387097\n",
      "**************************************************\n",
      "3 ------------ 180 --- 11 --->  0.973951487632931  ********** 0.9806451612903225\n",
      "**************************************************\n",
      "3 ------------ 180 --- 12 --->  0.9727566017445334  ********** 0.9849462365591398\n",
      "**************************************************\n",
      "3 ------------ 200 --- 10 --->  0.9728760903333732  ********** 0.9795698924731183\n",
      "**************************************************\n",
      "3 ------------ 200 --- 11 --->  0.973951487632931  ********** 0.9774193548387097\n",
      "**************************************************\n",
      "3 ------------ 200 --- 12 --->  0.9737125104552515  ********** 0.978494623655914\n",
      "**************************************************\n",
      "4 ------------ 20 --- 10 --->  0.8591229537579161  ********** 0.8236559139784946\n",
      "**************************************************\n",
      "4 ------------ 20 --- 11 --->  0.92854582387382  ********** 0.9397849462365592\n",
      "**************************************************\n",
      "4 ------------ 20 --- 12 --->  0.9351176962600072  ********** 0.9344086021505377\n",
      "**************************************************\n",
      "4 ------------ 40 --- 10 --->  0.9531604731748118  ********** 0.9591397849462365\n",
      "**************************************************\n",
      "4 ------------ 40 --- 11 --->  0.9542358704743698  ********** 0.9526881720430107\n",
      "**************************************************\n",
      "4 ------------ 40 --- 12 --->  0.9641534233480703  ********** 0.9623655913978495\n",
      "**************************************************\n",
      "4 ------------ 60 --- 10 --->  0.9657067750029872  ********** 0.9688172043010753\n",
      "**************************************************\n",
      "4 ------------ 60 --- 11 --->  0.9671406380690644  ********** 0.9655913978494624\n",
      "**************************************************\n"
     ]
    },
    {
     "name": "stdout",
     "output_type": "stream",
     "text": [
      "4 ------------ 60 --- 12 --->  0.9585374596726013  ********** 0.9634408602150538\n",
      "**************************************************\n",
      "4 ------------ 80 --- 10 --->  0.969888875612379  ********** 0.9731182795698925\n",
      "**************************************************\n",
      "4 ------------ 80 --- 11 --->  0.9720396702114948  ********** 0.9763440860215054\n",
      "**************************************************\n",
      "4 ------------ 80 --- 12 --->  0.9691719440793404  ********** 0.9655913978494624\n",
      "**************************************************\n",
      "4 ------------ 100 --- 10 --->  0.9704863185565779  ********** 0.9741935483870968\n",
      "**************************************************\n",
      "4 ------------ 100 --- 11 --->  0.9718006930338152  ********** 0.9795698924731183\n",
      "**************************************************\n",
      "4 ------------ 100 --- 12 --->  0.9725176245668539  ********** 0.9763440860215054\n",
      "**************************************************\n",
      "4 ------------ 125 --- 10 --->  0.9670211494802247  ********** 0.975268817204301\n",
      "**************************************************\n",
      "4 ------------ 125 --- 11 --->  0.9725176245668539  ********** 0.9774193548387097\n",
      "**************************************************\n",
      "4 ------------ 125 --- 12 --->  0.9685745011351415  ********** 0.9720430107526882\n",
      "**************************************************\n",
      "4 ------------ 150 --- 10 --->  0.9689329669016609  ********** 0.9720430107526882\n",
      "**************************************************\n",
      "4 ------------ 150 --- 11 --->  0.9728760903333732  ********** 0.9870967741935484\n",
      "**************************************************\n",
      "4 ------------ 150 --- 12 --->  0.969888875612379  ********** 0.9731182795698925\n",
      "**************************************************\n",
      "4 ------------ 180 --- 10 --->  0.9727566017445334  ********** 0.9795698924731183\n",
      "**************************************************\n",
      "4 ------------ 180 --- 11 --->  0.9726371131556937  ********** 0.9817204301075269\n",
      "**************************************************\n",
      "4 ------------ 180 --- 12 --->  0.971442227267296  ********** 0.9741935483870968\n",
      "**************************************************\n",
      "4 ------------ 200 --- 10 --->  0.9720396702114948  ********** 0.978494623655914\n",
      "**************************************************\n",
      "4 ------------ 200 --- 11 --->  0.9729955789222129  ********** 0.9774193548387097\n",
      "**************************************************\n",
      "4 ------------ 200 --- 12 --->  0.9732345560998925  ********** 0.9763440860215054\n",
      "**************************************************\n",
      "5 ------------ 20 --- 10 --->  0.8861273748357031  ********** 0.889247311827957\n",
      "**************************************************\n",
      "5 ------------ 20 --- 11 --->  0.902497311506751  ********** 0.9032258064516129\n",
      "**************************************************\n",
      "5 ------------ 20 --- 12 --->  0.9223324172541523  ********** 0.9182795698924732\n",
      "**************************************************\n",
      "5 ------------ 40 --- 10 --->  0.9562671764846458  ********** 0.956989247311828\n",
      "**************************************************\n",
      "5 ------------ 40 --- 11 --->  0.9311745728282949  ********** 0.9408602150537635\n",
      "**************************************************\n",
      "5 ------------ 40 --- 12 --->  0.9553112677739276  ********** 0.9526881720430107\n",
      "**************************************************\n",
      "5 ------------ 60 --- 10 --->  0.9615246743935955  ********** 0.9698924731182795\n",
      "**************************************************\n",
      "5 ------------ 60 --- 11 --->  0.9629585374596726  ********** 0.9591397849462365\n",
      "**************************************************\n",
      "5 ------------ 60 --- 12 --->  0.9670211494802247  ********** 0.9720430107526882\n",
      "**************************************************\n",
      "5 ------------ 80 --- 10 --->  0.9603297885051978  ********** 0.9688172043010753\n",
      "**************************************************\n",
      "5 ------------ 80 --- 11 --->  0.9652288206476282  ********** 0.9709677419354839\n",
      "**************************************************\n",
      "5 ------------ 80 --- 12 --->  0.9664237065360258  ********** 0.964516129032258\n",
      "**************************************************\n",
      "5 ------------ 100 --- 10 --->  0.9688134783128212  ********** 0.978494623655914\n",
      "**************************************************\n",
      "5 ------------ 100 --- 11 --->  0.9697693870235392  ********** 0.9720430107526882\n",
      "**************************************************\n",
      "5 ------------ 100 --- 12 --->  0.9691719440793404  ********** 0.9763440860215054\n",
      "**************************************************\n",
      "5 ------------ 125 --- 10 --->  0.9715617158561357  ********** 0.975268817204301\n",
      "**************************************************\n",
      "5 ------------ 125 --- 11 --->  0.9746684191659697  ********** 0.9827956989247312\n",
      "**************************************************\n",
      "5 ------------ 125 --- 12 --->  0.9715617158561357  ********** 0.9763440860215054\n",
      "**************************************************\n",
      "5 ------------ 150 --- 10 --->  0.9718006930338152  ********** 0.975268817204301\n",
      "**************************************************\n",
      "5 ------------ 150 --- 11 --->  0.9716812044449755  ********** 0.9817204301075269\n",
      "**************************************************\n",
      "5 ------------ 150 --- 12 --->  0.975504839287848  ********** 0.9795698924731183\n",
      "**************************************************\n",
      "5 ------------ 180 --- 10 --->  0.971920181622655  ********** 0.9763440860215054\n",
      "**************************************************\n",
      "5 ------------ 180 --- 11 --->  0.971442227267296  ********** 0.9741935483870968\n",
      "**************************************************\n",
      "5 ------------ 180 --- 12 --->  0.9708447843230972  ********** 0.975268817204301\n",
      "**************************************************\n",
      "5 ------------ 200 --- 10 --->  0.9674991038355837  ********** 0.9720430107526882\n",
      "**************************************************\n",
      "5 ------------ 200 --- 11 --->  0.9731150675110527  ********** 0.9838709677419355\n",
      "**************************************************\n",
      "5 ------------ 200 --- 12 --->  0.9728760903333732  ********** 0.9849462365591398\n",
      "**************************************************\n",
      "6 ------------ 20 --- 10 --->  0.9344007647269685  ********** 0.9268817204301075\n",
      "**************************************************\n",
      "6 ------------ 20 --- 11 --->  0.9045286175170272  ********** 0.8806451612903226\n",
      "**************************************************\n",
      "6 ------------ 20 --- 12 --->  0.9216154857211136  ********** 0.9075268817204301\n",
      "**************************************************\n",
      "6 ------------ 40 --- 10 --->  0.9462301350221054  ********** 0.9440860215053763\n",
      "**************************************************\n",
      "6 ------------ 40 --- 11 --->  0.9456326920779066  ********** 0.9301075268817204\n",
      "**************************************************\n",
      "6 ------------ 40 --- 12 --->  0.9584179710837615  ********** 0.9655913978494624\n",
      "**************************************************\n",
      "6 ------------ 60 --- 10 --->  0.9277094037519417  ********** 0.9333333333333333\n",
      "**************************************************\n",
      "6 ------------ 60 --- 11 --->  0.9572230851953638  ********** 0.964516129032258\n",
      "**************************************************\n",
      "6 ------------ 60 --- 12 --->  0.962241605926634  ********** 0.9591397849462365\n",
      "**************************************************\n",
      "6 ------------ 80 --- 10 --->  0.965826263591827  ********** 0.9774193548387097\n",
      "**************************************************\n",
      "6 ------------ 80 --- 11 --->  0.9620026287489545  ********** 0.9698924731182795\n",
      "**************************************************\n",
      "6 ------------ 80 --- 12 --->  0.971442227267296  ********** 0.9795698924731183\n",
      "**************************************************\n",
      "6 ------------ 100 --- 10 --->  0.9707252957342574  ********** 0.9720430107526882\n",
      "**************************************************\n",
      "6 ------------ 100 --- 11 --->  0.9684550125463018  ********** 0.978494623655914\n",
      "**************************************************\n",
      "6 ------------ 100 --- 12 --->  0.9688134783128212  ********** 0.9741935483870968\n",
      "**************************************************\n",
      "6 ------------ 125 --- 10 --->  0.9700083642012188  ********** 0.9795698924731183\n",
      "**************************************************\n"
     ]
    },
    {
     "name": "stdout",
     "output_type": "stream",
     "text": [
      "6 ------------ 125 --- 11 --->  0.9713227386784562  ********** 0.975268817204301\n",
      "**************************************************\n",
      "6 ------------ 125 --- 12 --->  0.9721591588003345  ********** 0.9827956989247312\n",
      "**************************************************\n",
      "6 ------------ 150 --- 10 --->  0.9710837615007767  ********** 0.9763440860215054\n",
      "**************************************************\n",
      "6 ------------ 150 --- 11 --->  0.9709642729119369  ********** 0.9763440860215054\n",
      "**************************************************\n",
      "6 ------------ 150 --- 12 --->  0.9725176245668539  ********** 0.9838709677419355\n",
      "**************************************************\n",
      "6 ------------ 180 --- 10 --->  0.9708447843230972  ********** 0.9741935483870968\n",
      "**************************************************\n",
      "6 ------------ 180 --- 11 --->  0.971442227267296  ********** 0.9817204301075269\n",
      "**************************************************\n",
      "6 ------------ 180 --- 12 --->  0.971920181622655  ********** 0.975268817204301\n",
      "**************************************************\n",
      "6 ------------ 200 --- 10 --->  0.971920181622655  ********** 0.9741935483870968\n",
      "**************************************************\n",
      "6 ------------ 200 --- 11 --->  0.9732345560998925  ********** 0.978494623655914\n",
      "**************************************************\n",
      "6 ------------ 200 --- 12 --->  0.9746684191659697  ********** 0.9763440860215054\n",
      "**************************************************\n",
      "7 ------------ 20 --- 10 --->  0.8875612379017804  ********** 0.8924731182795699\n",
      "**************************************************\n",
      "7 ------------ 20 --- 11 --->  0.9469470665551439  ********** 0.9451612903225807\n",
      "**************************************************\n",
      "7 ------------ 20 --- 12 --->  0.9329669016608914  ********** 0.9408602150537635\n",
      "**************************************************\n",
      "7 ------------ 40 --- 10 --->  0.9439598518341499  ********** 0.9483870967741935\n",
      "**************************************************\n",
      "7 ------------ 40 --- 11 --->  0.9550722905962481  ********** 0.9505376344086022\n",
      "**************************************************\n",
      "7 ------------ 40 --- 12 --->  0.9556697335404469  ********** 0.9516129032258065\n",
      "**************************************************\n",
      "7 ------------ 60 --- 10 --->  0.935715139204206  ********** 0.9376344086021505\n",
      "**************************************************\n",
      "7 ------------ 60 --- 11 --->  0.965348309236468  ********** 0.967741935483871\n",
      "**************************************************\n",
      "7 ------------ 60 --- 12 --->  0.9655872864141475  ********** 0.9731182795698925\n",
      "**************************************************\n",
      "7 ------------ 80 --- 10 --->  0.9610467200382363  ********** 0.9741935483870968\n",
      "**************************************************\n",
      "7 ------------ 80 --- 11 --->  0.9721591588003345  ********** 0.9774193548387097\n",
      "**************************************************\n",
      "7 ------------ 80 --- 12 --->  0.9721591588003345  ********** 0.9741935483870968\n",
      "**************************************************\n",
      "7 ------------ 100 --- 10 --->  0.9618831401601147  ********** 0.9612903225806452\n",
      "**************************************************\n",
      "7 ------------ 100 --- 11 --->  0.969888875612379  ********** 0.9741935483870968\n",
      "**************************************************\n",
      "7 ------------ 100 --- 12 --->  0.9695304098458597  ********** 0.9795698924731183\n",
      "**************************************************\n",
      "7 ------------ 125 --- 10 --->  0.9685745011351415  ********** 0.9720430107526882\n",
      "**************************************************\n",
      "7 ------------ 125 --- 11 --->  0.9710837615007767  ********** 0.9698924731182795\n",
      "**************************************************\n",
      "7 ------------ 125 --- 12 --->  0.96941092125702  ********** 0.9817204301075269\n",
      "**************************************************\n",
      "7 ------------ 150 --- 10 --->  0.9701278527900585  ********** 0.9731182795698925\n",
      "**************************************************\n",
      "7 ------------ 150 --- 11 --->  0.9749073963436492  ********** 0.9795698924731183\n",
      "**************************************************\n",
      "7 ------------ 150 --- 12 --->  0.9706058071454177  ********** 0.9795698924731183\n",
      "**************************************************\n",
      "7 ------------ 180 --- 10 --->  0.9740709762217709  ********** 0.9817204301075269\n",
      "**************************************************\n",
      "7 ------------ 180 --- 11 --->  0.9746684191659697  ********** 0.9720430107526882\n",
      "**************************************************\n",
      "7 ------------ 180 --- 12 --->  0.9726371131556937  ********** 0.9763440860215054\n",
      "**************************************************\n",
      "7 ------------ 200 --- 10 --->  0.9720396702114948  ********** 0.9741935483870968\n",
      "**************************************************\n",
      "7 ------------ 200 --- 11 --->  0.9732345560998925  ********** 0.978494623655914\n",
      "**************************************************\n",
      "7 ------------ 200 --- 12 --->  0.9715617158561357  ********** 0.9763440860215054\n",
      "**************************************************\n"
     ]
    }
   ],
   "source": [
    "cv_acc = []\n",
    "train_acc = []\n",
    "print(\"Min Split---n_estimators---max_depth---> Train Accuracy ********** Cross-Val Accuracy\")\n",
    "for s in [2,3,4,5,6,7]:\n",
    "    for tree in [20,40,60,80,100,125,150,180,200]:\n",
    "        for d in [10,11,12]:\n",
    "            model = RF(n_estimators=tree,max_depth = d,min_samples_split = s)\n",
    "            model.fit(x_train,y_train)\n",
    "            y_pre = model.predict(x_cv)\n",
    "            y_pre1 = model.predict(x_train)\n",
    "            acc = accuracy_score(y_cv,y_pre)\n",
    "            acc1 = accuracy_score(y_train,y_pre1)\n",
    "            print(s,\"------------\",tree,\"---\",d,\"---> \",acc1,\" **********\",acc)\n",
    "            cv_acc.append(acc)\n",
    "            train_acc.append(acc1)\n",
    "            print(\"**********\"*5)"
   ]
  },
  {
   "cell_type": "code",
   "execution_count": 163,
   "metadata": {},
   "outputs": [
    {
     "name": "stdout",
     "output_type": "stream",
     "text": [
      "Training Accuracy of the model:  0.972398135978014\n",
      "Test Accuracy of the model:  0.9738878143133463\n"
     ]
    }
   ],
   "source": [
    "model = RF(n_estimators=150,max_depth = 12,min_samples_split=3)\n",
    "model.fit(x_train,y_train)\n",
    "y_pre = model.predict(x_test)\n",
    "y_pre1 = model.predict(x_train)\n",
    "acc = accuracy_score(y_test,y_pre)\n",
    "acc1 = accuracy_score(y_train,y_pre1)\n",
    "print(\"Training Accuracy of the model: \",acc1)\n",
    "print(\"Test Accuracy of the model: \",acc)"
   ]
  },
  {
   "cell_type": "code",
   "execution_count": 174,
   "metadata": {},
   "outputs": [
    {
     "name": "stdout",
     "output_type": "stream",
     "text": [
      "Top 20 Features According to Random Forest:\n",
      "********************************************\n"
     ]
    },
    {
     "data": {
      "text/plain": [
       "[('manufacturing', 0.08039636712678867),\n",
       " ('technology', 0.0484815723324932),\n",
       " ('travelling', 0.046447619801331094),\n",
       " ('food', 0.04254379100319116),\n",
       " ('snacks', 0.04077158738832936),\n",
       " ('travel', 0.03413689976709557),\n",
       " ('archaeology', 0.03290130812295662),\n",
       " ('computer', 0.03284561253020093),\n",
       " ('art', 0.03228393155374321),\n",
       " ('history', 0.030804849222499407),\n",
       " ('science', 0.03074775906596857),\n",
       " ('anthropology', 0.02704602003869516),\n",
       " ('cooking', 0.02683520774392281),\n",
       " ('blog', 0.025479411580571702),\n",
       " ('theatre', 0.021052150686206125),\n",
       " ('printing', 0.012170352145123535),\n",
       " ('music', 0.011731980972954364),\n",
       " ('process', 0.011257349431569768),\n",
       " ('video', 0.011006217553987716),\n",
       " ('painting', 0.010834138049352236)]"
      ]
     },
     "execution_count": 174,
     "metadata": {},
     "output_type": "execute_result"
    }
   ],
   "source": [
    "feature_names=tfidf.get_feature_names()\n",
    "w=model.feature_importances_\n",
    "top_f=zip(feature_names,w)\n",
    "top_new=list(top_f)\n",
    "top_new.sort(reverse=True,key=lambda x:x[1])\n",
    "top_20=top_new[0:20]\n",
    "print(\"Top 20 Features According to Random Forest:\")\n",
    "print(\"********************************************\")\n",
    "top_20"
   ]
  }
 ],
 "metadata": {
  "kernelspec": {
   "display_name": "Python 3",
   "language": "python",
   "name": "python3"
  },
  "language_info": {
   "codemirror_mode": {
    "name": "ipython",
    "version": 3
   },
   "file_extension": ".py",
   "mimetype": "text/x-python",
   "name": "python",
   "nbconvert_exporter": "python",
   "pygments_lexer": "ipython3",
   "version": "3.6.1"
  }
 },
 "nbformat": 4,
 "nbformat_minor": 2
}
