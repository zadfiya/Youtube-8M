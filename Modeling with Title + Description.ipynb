{
 "cells": [
  {
   "cell_type": "code",
   "execution_count": 65,
   "metadata": {},
   "outputs": [],
   "source": [
    "import warnings\n",
    "warnings.filterwarnings(\"ignore\")\n",
    "import pandas as pd\n",
    "import numpy as np\n",
    "import matplotlib.pyplot as plt\n",
    "from bs4 import BeautifulSoup\n",
    "import string\n",
    "from numpy import nan\n",
    "from sklearn.model_selection import train_test_split\n",
    "from sklearn.feature_extraction.text import TfidfVectorizer\n",
    "import scikitplot\n",
    "from scipy.sparse import hstack"
   ]
  },
  {
   "cell_type": "code",
   "execution_count": 15,
   "metadata": {},
   "outputs": [],
   "source": [
    "data = pd.read_csv('cleaned_data.csv')"
   ]
  },
  {
   "cell_type": "code",
   "execution_count": 16,
   "metadata": {},
   "outputs": [
    {
     "data": {
      "text/html": [
       "<div>\n",
       "<style scoped>\n",
       "    .dataframe tbody tr th:only-of-type {\n",
       "        vertical-align: middle;\n",
       "    }\n",
       "\n",
       "    .dataframe tbody tr th {\n",
       "        vertical-align: top;\n",
       "    }\n",
       "\n",
       "    .dataframe thead th {\n",
       "        text-align: right;\n",
       "    }\n",
       "</style>\n",
       "<table border=\"1\" class=\"dataframe\">\n",
       "  <thead>\n",
       "    <tr style=\"text-align: right;\">\n",
       "      <th></th>\n",
       "      <th>Unnamed: 0</th>\n",
       "      <th>Video Id</th>\n",
       "      <th>Title</th>\n",
       "      <th>Description</th>\n",
       "      <th>Category</th>\n",
       "    </tr>\n",
       "  </thead>\n",
       "  <tbody>\n",
       "    <tr>\n",
       "      <th>0</th>\n",
       "      <td>0</td>\n",
       "      <td>ehmsJLZlCZ0</td>\n",
       "      <td>ep travelling through north east india off to ...</td>\n",
       "      <td>the journey to arunachal north east india begi...</td>\n",
       "      <td>travel</td>\n",
       "    </tr>\n",
       "    <tr>\n",
       "      <th>1</th>\n",
       "      <td>1</td>\n",
       "      <td>e2NQE41J5eM</td>\n",
       "      <td>how do i travel so much how do i earn money</td>\n",
       "      <td>subscribe mountaintrekker gimbal if you have a...</td>\n",
       "      <td>travel</td>\n",
       "    </tr>\n",
       "    <tr>\n",
       "      <th>2</th>\n",
       "      <td>2</td>\n",
       "      <td>i9E_Blai8vk</td>\n",
       "      <td>travel vlog welcome to bali priscilla lee</td>\n",
       "      <td>i had the chance to fly out to bali with my wh...</td>\n",
       "      <td>travel</td>\n",
       "    </tr>\n",
       "    <tr>\n",
       "      <th>3</th>\n",
       "      <td>3</td>\n",
       "      <td>-LzdIILq5vE</td>\n",
       "      <td>goa travel diary four days in goa travel outfi...</td>\n",
       "      <td>hope you enjoy my goa travel diary this video ...</td>\n",
       "      <td>travel</td>\n",
       "    </tr>\n",
       "    <tr>\n",
       "      <th>4</th>\n",
       "      <td>4</td>\n",
       "      <td>7ByoBJYXU0k</td>\n",
       "      <td>steps to becoming a travel blogger</td>\n",
       "      <td>travel blogger nikki vargas of the pin the map...</td>\n",
       "      <td>travel</td>\n",
       "    </tr>\n",
       "  </tbody>\n",
       "</table>\n",
       "</div>"
      ],
      "text/plain": [
       "   Unnamed: 0     Video Id                                              Title  \\\n",
       "0           0  ehmsJLZlCZ0  ep travelling through north east india off to ...   \n",
       "1           1  e2NQE41J5eM        how do i travel so much how do i earn money   \n",
       "2           2  i9E_Blai8vk          travel vlog welcome to bali priscilla lee   \n",
       "3           3  -LzdIILq5vE  goa travel diary four days in goa travel outfi...   \n",
       "4           4  7ByoBJYXU0k                 steps to becoming a travel blogger   \n",
       "\n",
       "                                         Description Category  \n",
       "0  the journey to arunachal north east india begi...   travel  \n",
       "1  subscribe mountaintrekker gimbal if you have a...   travel  \n",
       "2  i had the chance to fly out to bali with my wh...   travel  \n",
       "3  hope you enjoy my goa travel diary this video ...   travel  \n",
       "4  travel blogger nikki vargas of the pin the map...   travel  "
      ]
     },
     "execution_count": 16,
     "metadata": {},
     "output_type": "execute_result"
    }
   ],
   "source": [
    "data.head()"
   ]
  },
  {
   "cell_type": "markdown",
   "metadata": {},
   "source": [
    "### deviding the data into train test and validation using 80: 10 :10"
   ]
  },
  {
   "cell_type": "code",
   "execution_count": 170,
   "metadata": {},
   "outputs": [],
   "source": [
    "X_train,X_test,y_train,y_test = train_test_split(data['Title'].values,data['Category'].values, test_size=.1)\n",
    "X_train,X_cv,y_train,y_cv = train_test_split(X_train,y_train, test_size=.1)"
   ]
  },
  {
   "cell_type": "code",
   "execution_count": 171,
   "metadata": {},
   "outputs": [],
   "source": [
    "X_train1,X_test1,y_train1,y_test1 = train_test_split(data['Description'].values,data['Category'].values, test_size=.1)\n",
    "X_train1,X_cv1,y_train1,y_cv1 = train_test_split(X_train1,y_train1, test_size=.1)"
   ]
  },
  {
   "cell_type": "code",
   "execution_count": 172,
   "metadata": {},
   "outputs": [],
   "source": [
    "count = 0 \n",
    "for v in X_train:\n",
    "    if type(v)!=str:\n",
    "        X_train[count] = 'x'\n",
    "    count+=1"
   ]
  },
  {
   "cell_type": "code",
   "execution_count": 173,
   "metadata": {},
   "outputs": [],
   "source": [
    "count = 0 \n",
    "for v in X_test:\n",
    "    if type(v)!=str:\n",
    "        X_test[count] = 'x'\n",
    "    count+=1"
   ]
  },
  {
   "cell_type": "code",
   "execution_count": 174,
   "metadata": {},
   "outputs": [],
   "source": [
    "count = 0 \n",
    "for v in X_cv:\n",
    "    if type(v)!=str:\n",
    "        X_cv[count] = 'x'\n",
    "    count+=1"
   ]
  },
  {
   "cell_type": "code",
   "execution_count": 175,
   "metadata": {},
   "outputs": [],
   "source": [
    "count = 0 \n",
    "for v in X_train1:\n",
    "    if type(v)!=str:\n",
    "        X_train1[count] = 'x'\n",
    "    count+=1\n",
    "count = 0 \n",
    "for v in X_test1:\n",
    "    if type(v)!=str:\n",
    "        X_test1[count] = 'x'\n",
    "    count+=1\n",
    "count = 0 \n",
    "for v in X_cv1:\n",
    "    if type(v)!=str:\n",
    "        X_cv1[count] = 'x'\n",
    "    count+=1"
   ]
  },
  {
   "cell_type": "code",
   "execution_count": 176,
   "metadata": {},
   "outputs": [],
   "source": [
    "X_train2 = X_train+X_train1\n",
    "X_cv2 = X_cv+X_cv1\n",
    "X_test2 = X_test+X_test1"
   ]
  },
  {
   "cell_type": "markdown",
   "metadata": {},
   "source": [
    "### converting the Title into numerical vector using tf-idf"
   ]
  },
  {
   "cell_type": "code",
   "execution_count": 177,
   "metadata": {},
   "outputs": [],
   "source": [
    "tfidf = TfidfVectorizer(1500)\n",
    "x_train = tfidf.fit_transform(X_train)\n",
    "x_test = tfidf.transform(X_test)\n",
    "x_cv = tfidf.transform(X_cv)"
   ]
  },
  {
   "cell_type": "code",
   "execution_count": 178,
   "metadata": {},
   "outputs": [],
   "source": [
    "tfidf1 = tfidf#TfidfVectorizer(max_features=1000)\n",
    "x_train1 = tfidf1.fit_transform(X_train1)\n",
    "x_test1 = tfidf1.transform(X_test1)\n",
    "x_cv1 = tfidf1.transform(X_cv1)"
   ]
  },
  {
   "cell_type": "code",
   "execution_count": 179,
   "metadata": {},
   "outputs": [],
   "source": [
    "X_train = hstack((x_train, x_train1))\n",
    "X_test = hstack((x_test,x_test1))\n",
    "X_cv = hstack((x_cv,x_cv1))"
   ]
  },
  {
   "cell_type": "markdown",
   "metadata": {},
   "source": [
    "### applying Logistic Regression over the title:"
   ]
  },
  {
   "cell_type": "code",
   "execution_count": 180,
   "metadata": {},
   "outputs": [],
   "source": [
    "from sklearn.linear_model import LogisticRegression as LR\n",
    "from sklearn.metrics import accuracy_score"
   ]
  },
  {
   "cell_type": "code",
   "execution_count": 181,
   "metadata": {},
   "outputs": [
    {
     "name": "stdout",
     "output_type": "stream",
     "text": [
      "C ---------> CV Accuracy ********** Train Accuracy\n",
      "0.001 ---------> 0.8946236559139785 ********** 0.9132512845023301\n",
      "0.01 ---------> 0.946236559139785 ********** 0.9665431951248655\n",
      "0.1 ---------> 0.9655913978494624 ********** 0.9838690405066316\n",
      "1 ---------> 0.9817204301075269 ********** 0.9966543195124865\n",
      "10 ---------> 0.9849462365591398 ********** 1.0\n",
      "100 ---------> 0.9849462365591398 ********** 1.0\n",
      "1000 ---------> 0.9838709677419355 ********** 1.0\n"
     ]
    }
   ],
   "source": [
    "train_acc = []\n",
    "cv_acc = []\n",
    "print(\"C ---------> CV Accuracy ********** Train Accuracy\")\n",
    "for c in [.001,.01,.1,1,10,100,1000]:\n",
    "    model = LR(C=c)\n",
    "    model.fit(X_train,y_train)\n",
    "    y_pre = model.predict(X_cv)\n",
    "    y_pre1 = model.predict(X_train)\n",
    "    acc = accuracy_score(y_cv,y_pre)\n",
    "    acc1 = accuracy_score(y_train,y_pre1)\n",
    "    print(c,\"--------->\",acc,\"**********\",acc1)\n",
    "    cv_acc.append(acc)\n",
    "    train_acc.append(acc1)"
   ]
  },
  {
   "cell_type": "code",
   "execution_count": 182,
   "metadata": {},
   "outputs": [
    {
     "data": {
      "image/png": "[encoded data removed]",
      "text/plain": [
       "<Figure size 432x288 with 1 Axes>"
      ]
     },
     "metadata": {
      "needs_background": "light"
     },
     "output_type": "display_data"
    }
   ],
   "source": [
    "plt.plot(cv_acc,marker='o')\n",
    "plt.plot(train_acc,marker = 'o')\n",
    "plt.xlabel(\"C\")\n",
    "plt.ylabel(\"Accuracy\")\n",
    "plt.title(\"Train and Test Accuracy Variation with C\")\n",
    "plt.xticks(np.arange(7),[.001,.01,.1,1,10,100])\n",
    "plt.legend([\"Cross-Validation Accuracy\",\"Training Accuracy\"])\n",
    "plt.show()"
   ]
  },
  {
   "cell_type": "markdown",
   "metadata": {},
   "source": [
    "- from the above plot we can see that at C=1, our model's cv accuracy is equivalent to train accuracy but after that it start overfitting so we will choose C = 1 for the final modeling"
   ]
  },
  {
   "cell_type": "markdown",
   "metadata": {},
   "source": [
    "### Final Evaluation on the test data"
   ]
  },
  {
   "cell_type": "code",
   "execution_count": 183,
   "metadata": {},
   "outputs": [
    {
     "name": "stdout",
     "output_type": "stream",
     "text": [
      "Training Accuracy of the Model 0.9925917074919345\n",
      "Test Accuracy of the Model 0.9729206963249516\n"
     ]
    }
   ],
   "source": [
    "model = LR(C=1)\n",
    "model.fit(x_train,y_train)\n",
    "y_pre = model.predict(x_test)\n",
    "y_pre1 = model.predict(x_train)\n",
    "acc = accuracy_score(y_test,y_pre)\n",
    "acc1 = accuracy_score(y_train,y_pre1)\n",
    "print(\"Training Accuracy of the Model\",acc1)\n",
    "print(\"Test Accuracy of the Model\",acc)"
   ]
  },
  {
   "cell_type": "markdown",
   "metadata": {},
   "source": [
    "### confusion matrix for test dataset"
   ]
  },
  {
   "cell_type": "code",
   "execution_count": 184,
   "metadata": {},
   "outputs": [
    {
     "data": {
      "image/png": "[encoded data removed]",
      "text/plain": [
       "<Figure size 432x288 with 2 Axes>"
      ]
     },
     "metadata": {
      "needs_background": "light"
     },
     "output_type": "display_data"
    }
   ],
   "source": [
    "scikitplot.metrics.plot_confusion_matrix(y_test, y_pre,x_tick_rotation=90)\n",
    "plt.show()"
   ]
  },
  {
   "cell_type": "markdown",
   "metadata": {},
   "source": [
    "### confusion matrix for train dataset"
   ]
  },
  {
   "cell_type": "code",
   "execution_count": 185,
   "metadata": {},
   "outputs": [
    {
     "data": {
      "image/png": "[encoded data removed]",
      "text/plain": [
       "<Figure size 432x288 with 2 Axes>"
      ]
     },
     "metadata": {
      "needs_background": "light"
     },
     "output_type": "display_data"
    }
   ],
   "source": [
    "scikitplot.metrics.plot_confusion_matrix(y_train, y_pre1,x_tick_rotation=90)\n",
    "plt.show()"
   ]
  },
  {
   "cell_type": "markdown",
   "metadata": {},
   "source": [
    "## Applying Random Forest model"
   ]
  },
  {
   "cell_type": "code",
   "execution_count": 186,
   "metadata": {},
   "outputs": [],
   "source": [
    "from xgboost import XGBClassifier\n",
    "from sklearn.ensemble import RandomForestClassifier as RF"
   ]
  },
  {
   "cell_type": "code",
   "execution_count": 187,
   "metadata": {},
   "outputs": [
    {
     "name": "stdout",
     "output_type": "stream",
     "text": [
      "Min Split---n_estimators---max_depth---> Train Accuracy ********** Cross-Val Accuracy\n",
      "2 ------------ 20 --- 10 --->  0.9338033217827697  ********** 0.9258064516129032\n",
      "**************************************************\n",
      "2 ------------ 20 --- 11 --->  0.8891145895566973  ********** 0.875268817204301\n",
      "**************************************************\n",
      "2 ------------ 20 --- 12 --->  0.9315330385948142  ********** 0.9182795698924732\n",
      "**************************************************\n",
      "2 ------------ 40 --- 10 --->  0.9579400167284025  ********** 0.9473118279569892\n",
      "**************************************************\n",
      "2 ------------ 40 --- 11 --->  0.9547138248297288  ********** 0.946236559139785\n",
      "**************************************************\n",
      "2 ------------ 40 --- 12 --->  0.9563866650734855  ********** 0.9505376344086022\n",
      "**************************************************\n",
      "2 ------------ 60 --- 10 --->  0.965348309236468  ********** 0.9591397849462365\n",
      "**************************************************\n",
      "2 ------------ 60 --- 11 --->  0.9615246743935955  ********** 0.9526881720430107\n",
      "**************************************************\n",
      "2 ------------ 60 --- 12 --->  0.9689329669016609  ********** 0.9580645161290322\n",
      "**************************************************\n",
      "2 ------------ 80 --- 10 --->  0.966304217947186  ********** 0.9655913978494624\n",
      "**************************************************\n",
      "2 ------------ 80 --- 11 --->  0.9685745011351415  ********** 0.9634408602150538\n",
      "**************************************************\n",
      "2 ------------ 80 --- 12 --->  0.9718006930338152  ********** 0.9634408602150538\n",
      "**************************************************\n",
      "2 ------------ 100 --- 10 --->  0.9664237065360258  ********** 0.9655913978494624\n",
      "**************************************************\n",
      "2 ------------ 100 --- 11 --->  0.9671406380690644  ********** 0.9580645161290322\n",
      "**************************************************\n",
      "2 ------------ 100 --- 12 --->  0.9721591588003345  ********** 0.964516129032258\n",
      "**************************************************\n",
      "2 ------------ 125 --- 10 --->  0.9716812044449755  ********** 0.9655913978494624\n",
      "**************************************************\n",
      "2 ------------ 125 --- 11 --->  0.9746684191659697  ********** 0.9666666666666667\n",
      "**************************************************\n",
      "2 ------------ 125 --- 12 --->  0.9744294419882901  ********** 0.9634408602150538\n",
      "**************************************************\n",
      "2 ------------ 150 --- 10 --->  0.9712032500896164  ********** 0.9634408602150538\n",
      "**************************************************\n",
      "2 ------------ 150 --- 11 --->  0.9749073963436492  ********** 0.9698924731182795\n",
      "**************************************************\n",
      "2 ------------ 150 --- 12 --->  0.9746684191659697  ********** 0.9602150537634409\n",
      "**************************************************\n",
      "2 ------------ 180 --- 10 --->  0.9671406380690644  ********** 0.9602150537634409\n",
      "**************************************************\n",
      "2 ------------ 180 --- 11 --->  0.9740709762217709  ********** 0.9634408602150538\n",
      "**************************************************\n",
      "2 ------------ 180 --- 12 --->  0.9768192137650854  ********** 0.9688172043010753\n",
      "**************************************************\n",
      "2 ------------ 200 --- 10 --->  0.970366829967738  ********** 0.964516129032258\n",
      "**************************************************\n",
      "2 ------------ 200 --- 11 --->  0.9732345560998925  ********** 0.9655913978494624\n",
      "**************************************************\n",
      "2 ------------ 200 --- 12 --->  0.9756243278766877  ********** 0.9666666666666667\n",
      "**************************************************\n",
      "3 ------------ 20 --- 10 --->  0.8878002150794599  ********** 0.864516129032258\n",
      "**************************************************\n",
      "3 ------------ 20 --- 11 --->  0.9231688373760306  ********** 0.9182795698924732\n",
      "**************************************************\n",
      "3 ------------ 20 --- 12 --->  0.9238857689090691  ********** 0.9\n",
      "**************************************************\n",
      "3 ------------ 40 --- 10 --->  0.9485004182100609  ********** 0.9376344086021505\n",
      "**************************************************\n",
      "3 ------------ 40 --- 11 --->  0.9584179710837615  ********** 0.953763440860215\n",
      "**************************************************\n",
      "3 ------------ 40 --- 12 --->  0.9573425737842036  ********** 0.9483870967741935\n",
      "**************************************************\n",
      "3 ------------ 60 --- 10 --->  0.9616441629824352  ********** 0.9473118279569892\n",
      "**************************************************\n",
      "3 ------------ 60 --- 11 --->  0.9708447843230972  ********** 0.9548387096774194\n",
      "**************************************************\n",
      "3 ------------ 60 --- 12 --->  0.9733540446887322  ********** 0.9655913978494624\n",
      "**************************************************\n",
      "3 ------------ 80 --- 10 --->  0.9691719440793404  ********** 0.9559139784946237\n",
      "**************************************************\n",
      "3 ------------ 80 --- 11 --->  0.9685745011351415  ********** 0.9526881720430107\n",
      "**************************************************\n",
      "3 ------------ 80 --- 12 --->  0.9689329669016609  ********** 0.956989247311828\n",
      "**************************************************\n",
      "3 ------------ 100 --- 10 --->  0.9701278527900585  ********** 0.9580645161290322\n",
      "**************************************************\n",
      "3 ------------ 100 --- 11 --->  0.9721591588003345  ********** 0.9634408602150538\n",
      "**************************************************\n",
      "3 ------------ 100 --- 12 --->  0.9745489305771299  ********** 0.9666666666666667\n",
      "**************************************************\n",
      "3 ------------ 125 --- 10 --->  0.9710837615007767  ********** 0.9602150537634409\n",
      "**************************************************\n",
      "3 ------------ 125 --- 11 --->  0.9688134783128212  ********** 0.9591397849462365\n",
      "**************************************************\n",
      "3 ------------ 125 --- 12 --->  0.9765802365874059  ********** 0.9698924731182795\n",
      "**************************************************\n",
      "3 ------------ 150 --- 10 --->  0.969888875612379  ********** 0.967741935483871\n",
      "**************************************************\n",
      "3 ------------ 150 --- 11 --->  0.9747879077548094  ********** 0.9655913978494624\n",
      "**************************************************\n",
      "3 ------------ 150 --- 12 --->  0.9741904648106106  ********** 0.9741935483870968\n",
      "**************************************************\n",
      "3 ------------ 180 --- 10 --->  0.9732345560998925  ********** 0.9655913978494624\n",
      "**************************************************\n",
      "3 ------------ 180 --- 11 --->  0.9765802365874059  ********** 0.9666666666666667\n",
      "**************************************************\n",
      "3 ------------ 180 --- 12 --->  0.9725176245668539  ********** 0.9666666666666667\n",
      "**************************************************\n",
      "3 ------------ 200 --- 10 --->  0.9744294419882901  ********** 0.9612903225806452\n",
      "**************************************************\n",
      "3 ------------ 200 --- 11 --->  0.9749073963436492  ********** 0.9655913978494624\n",
      "**************************************************\n",
      "3 ------------ 200 --- 12 --->  0.9745489305771299  ********** 0.9731182795698925\n",
      "**************************************************\n",
      "4 ------------ 20 --- 10 --->  0.924005257497909  ********** 0.9139784946236559\n",
      "**************************************************\n",
      "4 ------------ 20 --- 11 --->  0.8789580595053172  ********** 0.8580645161290322\n",
      "**************************************************\n",
      "4 ------------ 20 --- 12 --->  0.9108615127255347  ********** 0.8849462365591397\n",
      "**************************************************\n",
      "4 ------------ 40 --- 10 --->  0.9407336599354762  ********** 0.9247311827956989\n",
      "**************************************************\n",
      "4 ------------ 40 --- 11 --->  0.9571035966065241  ********** 0.9473118279569892\n",
      "**************************************************\n",
      "4 ------------ 40 --- 12 --->  0.9438403632453101  ********** 0.932258064516129\n",
      "**************************************************\n",
      "4 ------------ 60 --- 10 --->  0.9671406380690644  ********** 0.9623655913978495\n",
      "**************************************************\n",
      "4 ------------ 60 --- 11 --->  0.9605687656828773  ********** 0.9473118279569892\n",
      "**************************************************\n"
     ]
    },
    {
     "name": "stdout",
     "output_type": "stream",
     "text": [
      "4 ------------ 60 --- 12 --->  0.9680965467797825  ********** 0.9612903225806452\n",
      "**************************************************\n",
      "4 ------------ 80 --- 10 --->  0.9697693870235392  ********** 0.9634408602150538\n",
      "**************************************************\n",
      "4 ------------ 80 --- 11 --->  0.9674991038355837  ********** 0.9559139784946237\n",
      "**************************************************\n",
      "4 ------------ 80 --- 12 --->  0.9726371131556937  ********** 0.9591397849462365\n",
      "**************************************************\n",
      "4 ------------ 100 --- 10 --->  0.9695304098458597  ********** 0.964516129032258\n",
      "**************************************************\n",
      "4 ------------ 100 --- 11 --->  0.9712032500896164  ********** 0.9634408602150538\n",
      "**************************************************\n",
      "4 ------------ 100 --- 12 --->  0.9710837615007767  ********** 0.964516129032258\n",
      "**************************************************\n",
      "4 ------------ 125 --- 10 --->  0.9710837615007767  ********** 0.967741935483871\n",
      "**************************************************\n",
      "4 ------------ 125 --- 11 --->  0.9692914326681802  ********** 0.9634408602150538\n",
      "**************************************************\n",
      "4 ------------ 125 --- 12 --->  0.973951487632931  ********** 0.9655913978494624\n",
      "**************************************************\n",
      "4 ------------ 150 --- 10 --->  0.9718006930338152  ********** 0.9602150537634409\n",
      "**************************************************\n",
      "4 ------------ 150 --- 11 --->  0.973951487632931  ********** 0.9666666666666667\n",
      "**************************************************\n",
      "4 ------------ 150 --- 12 --->  0.9751463735213287  ********** 0.9623655913978495\n",
      "**************************************************\n",
      "4 ------------ 180 --- 10 --->  0.9725176245668539  ********** 0.9666666666666667\n",
      "**************************************************\n",
      "4 ------------ 180 --- 11 --->  0.9733540446887322  ********** 0.9666666666666667\n",
      "**************************************************\n",
      "4 ------------ 180 --- 12 --->  0.9731150675110527  ********** 0.964516129032258\n",
      "**************************************************\n",
      "4 ------------ 200 --- 10 --->  0.9679770581909428  ********** 0.9612903225806452\n",
      "**************************************************\n",
      "4 ------------ 200 --- 11 --->  0.9750268849324889  ********** 0.9634408602150538\n",
      "**************************************************\n",
      "4 ------------ 200 --- 12 --->  0.9743099533994504  ********** 0.9602150537634409\n",
      "**************************************************\n",
      "5 ------------ 20 --- 10 --->  0.9162384992233241  ********** 0.9053763440860215\n",
      "**************************************************\n",
      "5 ------------ 20 --- 11 --->  0.891862827100012  ********** 0.8870967741935484\n",
      "**************************************************\n",
      "5 ------------ 20 --- 12 --->  0.9016608913848727  ********** 0.8956989247311828\n",
      "**************************************************\n",
      "5 ------------ 40 --- 10 --->  0.9175528737005616  ********** 0.9096774193548387\n",
      "**************************************************\n",
      "5 ------------ 40 --- 11 --->  0.9660652407695065  ********** 0.9580645161290322\n",
      "**************************************************\n",
      "5 ------------ 40 --- 12 --->  0.9127733301469709  ********** 0.8946236559139785\n",
      "**************************************************\n",
      "5 ------------ 60 --- 10 --->  0.9647508662922691  ********** 0.9559139784946237\n",
      "**************************************************\n",
      "5 ------------ 60 --- 11 --->  0.9713227386784562  ********** 0.9623655913978495\n",
      "**************************************************\n",
      "5 ------------ 60 --- 12 --->  0.9669016608913849  ********** 0.9591397849462365\n",
      "**************************************************\n",
      "5 ------------ 80 --- 10 --->  0.9672601266579042  ********** 0.956989247311828\n",
      "**************************************************\n",
      "5 ------------ 80 --- 11 --->  0.9716812044449755  ********** 0.9602150537634409\n",
      "**************************************************\n",
      "5 ------------ 80 --- 12 --->  0.971920181622655  ********** 0.9591397849462365\n",
      "**************************************************\n",
      "5 ------------ 100 --- 10 --->  0.969888875612379  ********** 0.9634408602150538\n",
      "**************************************************\n",
      "5 ------------ 100 --- 11 --->  0.9704863185565779  ********** 0.9580645161290322\n",
      "**************************************************\n",
      "5 ------------ 100 --- 12 --->  0.9778946110646434  ********** 0.967741935483871\n",
      "**************************************************\n",
      "5 ------------ 125 --- 10 --->  0.9701278527900585  ********** 0.9591397849462365\n",
      "**************************************************\n",
      "5 ------------ 125 --- 11 --->  0.9692914326681802  ********** 0.9634408602150538\n",
      "**************************************************\n",
      "5 ------------ 125 --- 12 --->  0.9759827936432071  ********** 0.9612903225806452\n",
      "**************************************************\n",
      "5 ------------ 150 --- 10 --->  0.9721591588003345  ********** 0.9612903225806452\n",
      "**************************************************\n",
      "5 ------------ 150 --- 11 --->  0.9741904648106106  ********** 0.9688172043010753\n",
      "**************************************************\n",
      "5 ------------ 150 --- 12 --->  0.9758633050543674  ********** 0.964516129032258\n",
      "**************************************************\n",
      "5 ------------ 180 --- 10 --->  0.973473533277572  ********** 0.9655913978494624\n",
      "**************************************************\n",
      "5 ------------ 180 --- 11 --->  0.9759827936432071  ********** 0.9666666666666667\n",
      "**************************************************\n",
      "5 ------------ 180 --- 12 --->  0.9747879077548094  ********** 0.9655913978494624\n",
      "**************************************************\n",
      "5 ------------ 200 --- 10 --->  0.975504839287848  ********** 0.9602150537634409\n",
      "**************************************************\n",
      "5 ------------ 200 --- 11 --->  0.9731150675110527  ********** 0.9612903225806452\n",
      "**************************************************\n",
      "5 ------------ 200 --- 12 --->  0.9759827936432071  ********** 0.9666666666666667\n",
      "**************************************************\n",
      "6 ------------ 20 --- 10 --->  0.929621221173378  ********** 0.9172043010752688\n",
      "**************************************************\n",
      "6 ------------ 20 --- 11 --->  0.9289042896403393  ********** 0.9139784946236559\n",
      "**************************************************\n",
      "6 ------------ 20 --- 12 --->  0.925558609152826  ********** 0.910752688172043\n",
      "**************************************************\n",
      "6 ------------ 40 --- 10 --->  0.9488588839765802  ********** 0.9483870967741935\n",
      "**************************************************\n",
      "6 ------------ 40 --- 11 --->  0.9630780260485123  ********** 0.9473118279569892\n",
      "**************************************************\n",
      "6 ------------ 40 --- 12 --->  0.9452742263113872  ********** 0.9301075268817204\n",
      "**************************************************\n",
      "6 ------------ 60 --- 10 --->  0.9584179710837615  ********** 0.9623655913978495\n",
      "**************************************************\n",
      "6 ------------ 60 --- 11 --->  0.9647508662922691  ********** 0.9559139784946237\n",
      "**************************************************\n",
      "6 ------------ 60 --- 12 --->  0.9670211494802247  ********** 0.9602150537634409\n",
      "**************************************************\n",
      "6 ------------ 80 --- 10 --->  0.9679770581909428  ********** 0.9602150537634409\n",
      "**************************************************\n",
      "6 ------------ 80 --- 11 --->  0.9667821723025452  ********** 0.9612903225806452\n",
      "**************************************************\n",
      "6 ------------ 80 --- 12 --->  0.9718006930338152  ********** 0.9580645161290322\n",
      "**************************************************\n",
      "6 ------------ 100 --- 10 --->  0.9721591588003345  ********** 0.956989247311828\n",
      "**************************************************\n",
      "6 ------------ 100 --- 11 --->  0.9707252957342574  ********** 0.967741935483871\n",
      "**************************************************\n",
      "6 ------------ 100 --- 12 --->  0.9746684191659697  ********** 0.9634408602150538\n",
      "**************************************************\n",
      "6 ------------ 125 --- 10 --->  0.970366829967738  ********** 0.9634408602150538\n",
      "**************************************************\n"
     ]
    },
    {
     "name": "stdout",
     "output_type": "stream",
     "text": [
      "6 ------------ 125 --- 11 --->  0.9741904648106106  ********** 0.9666666666666667\n",
      "**************************************************\n",
      "6 ------------ 125 --- 12 --->  0.9743099533994504  ********** 0.9666666666666667\n",
      "**************************************************\n",
      "6 ------------ 150 --- 10 --->  0.9700083642012188  ********** 0.9655913978494624\n",
      "**************************************************\n",
      "6 ------------ 150 --- 11 --->  0.973473533277572  ********** 0.9698924731182795\n",
      "**************************************************\n",
      "6 ------------ 150 --- 12 --->  0.9745489305771299  ********** 0.9688172043010753\n",
      "**************************************************\n",
      "6 ------------ 180 --- 10 --->  0.9680965467797825  ********** 0.9580645161290322\n",
      "**************************************************\n",
      "6 ------------ 180 --- 11 --->  0.9757438164655275  ********** 0.967741935483871\n",
      "**************************************************\n",
      "6 ------------ 180 --- 12 --->  0.9761022822320469  ********** 0.9634408602150538\n",
      "**************************************************\n",
      "6 ------------ 200 --- 10 --->  0.9718006930338152  ********** 0.9634408602150538\n",
      "**************************************************\n",
      "6 ------------ 200 --- 11 --->  0.9732345560998925  ********** 0.967741935483871\n",
      "**************************************************\n",
      "6 ------------ 200 --- 12 --->  0.9752658621101685  ********** 0.967741935483871\n",
      "**************************************************\n",
      "7 ------------ 20 --- 10 --->  0.9182698052336002  ********** 0.9129032258064517\n",
      "**************************************************\n",
      "7 ------------ 20 --- 11 --->  0.9134902616800096  ********** 0.9032258064516129\n",
      "**************************************************\n",
      "7 ------------ 20 --- 12 --->  0.9167164535786833  ********** 0.9032258064516129\n",
      "**************************************************\n",
      "7 ------------ 40 --- 10 --->  0.9400167284024376  ********** 0.9182795698924732\n",
      "**************************************************\n",
      "7 ------------ 40 --- 11 --->  0.9387023539252002  ********** 0.9290322580645162\n",
      "**************************************************\n",
      "7 ------------ 40 --- 12 --->  0.9671406380690644  ********** 0.9602150537634409\n",
      "**************************************************\n",
      "7 ------------ 60 --- 10 --->  0.9541163818855299  ********** 0.946236559139785\n",
      "**************************************************\n",
      "7 ------------ 60 --- 11 --->  0.9616441629824352  ********** 0.946236559139785\n",
      "**************************************************\n",
      "7 ------------ 60 --- 12 --->  0.9684550125463018  ********** 0.9612903225806452\n",
      "**************************************************\n",
      "7 ------------ 80 --- 10 --->  0.9692914326681802  ********** 0.9580645161290322\n",
      "**************************************************\n",
      "7 ------------ 80 --- 11 --->  0.970366829967738  ********** 0.9634408602150538\n",
      "**************************************************\n",
      "7 ------------ 80 --- 12 --->  0.9664237065360258  ********** 0.9580645161290322\n",
      "**************************************************\n",
      "7 ------------ 100 --- 10 --->  0.9682160353686223  ********** 0.9559139784946237\n",
      "**************************************************\n",
      "7 ------------ 100 --- 11 --->  0.9752658621101685  ********** 0.9655913978494624\n",
      "**************************************************\n",
      "7 ------------ 100 --- 12 --->  0.9725176245668539  ********** 0.9655913978494624\n",
      "**************************************************\n",
      "7 ------------ 125 --- 10 --->  0.9744294419882901  ********** 0.9623655913978495\n",
      "**************************************************\n",
      "7 ------------ 125 --- 11 --->  0.972398135978014  ********** 0.9591397849462365\n",
      "**************************************************\n",
      "7 ------------ 125 --- 12 --->  0.9741904648106106  ********** 0.9612903225806452\n",
      "**************************************************\n",
      "7 ------------ 150 --- 10 --->  0.9712032500896164  ********** 0.964516129032258\n",
      "**************************************************\n",
      "7 ------------ 150 --- 11 --->  0.9715617158561357  ********** 0.9655913978494624\n",
      "**************************************************\n",
      "7 ------------ 150 --- 12 --->  0.9749073963436492  ********** 0.964516129032258\n",
      "**************************************************\n",
      "7 ------------ 180 --- 10 --->  0.9729955789222129  ********** 0.9688172043010753\n",
      "**************************************************\n",
      "7 ------------ 180 --- 11 --->  0.9715617158561357  ********** 0.9580645161290322\n",
      "**************************************************\n",
      "7 ------------ 180 --- 12 --->  0.9749073963436492  ********** 0.9666666666666667\n",
      "**************************************************\n",
      "7 ------------ 200 --- 10 --->  0.9731150675110527  ********** 0.9634408602150538\n",
      "**************************************************\n",
      "7 ------------ 200 --- 11 --->  0.9751463735213287  ********** 0.9688172043010753\n",
      "**************************************************\n",
      "7 ------------ 200 --- 12 --->  0.9771776795316047  ********** 0.9698924731182795\n",
      "**************************************************\n"
     ]
    }
   ],
   "source": [
    "cv_acc = []\n",
    "train_acc = []\n",
    "print(\"Min Split---n_estimators---max_depth---> Train Accuracy ********** Cross-Val Accuracy\")\n",
    "for s in [2,3,4,5,6,7]:\n",
    "    for tree in [20,40,60,80,100,125,150,180,200]:\n",
    "        for d in [10,11,12]:\n",
    "            model = RF(n_estimators=tree,max_depth = d,min_samples_split = s)\n",
    "            model.fit(x_train,y_train)\n",
    "            y_pre = model.predict(x_cv)\n",
    "            y_pre1 = model.predict(x_train)\n",
    "            acc = accuracy_score(y_cv,y_pre)\n",
    "            acc1 = accuracy_score(y_train,y_pre1)\n",
    "            print(s,\"------------\",tree,\"---\",d,\"---> \",acc1,\" **********\",acc)\n",
    "            cv_acc.append(acc)\n",
    "            train_acc.append(acc1)\n",
    "            print(\"**********\"*5)"
   ]
  },
  {
   "cell_type": "code",
   "execution_count": 188,
   "metadata": {},
   "outputs": [
    {
     "name": "stdout",
     "output_type": "stream",
     "text": [
      "Training Accuracy of the model:  0.9761022822320469\n",
      "Test Accuracy of the model:  0.9593810444874274\n"
     ]
    }
   ],
   "source": [
    "model = RF(n_estimators=150,max_depth = 12,min_samples_split=3)\n",
    "model.fit(x_train,y_train)\n",
    "y_pre = model.predict(x_test)\n",
    "y_pre1 = model.predict(x_train)\n",
    "acc = accuracy_score(y_test,y_pre)\n",
    "acc1 = accuracy_score(y_train,y_pre1)\n",
    "print(\"Training Accuracy of the model: \",acc1)\n",
    "print(\"Test Accuracy of the model: \",acc)"
   ]
  },
  {
   "cell_type": "code",
   "execution_count": 189,
   "metadata": {},
   "outputs": [
    {
     "name": "stdout",
     "output_type": "stream",
     "text": [
      "Top 20 Features According to Random Forest:\n",
      "********************************************\n"
     ]
    },
    {
     "data": {
      "text/plain": [
       "[('focal', 0.06972268675376907),\n",
       " ('lavidaazul', 0.049007334482257484),\n",
       " ('mershin', 0.043508884338904735),\n",
       " ('mammoth', 0.04316614051875116),\n",
       " ('audrey', 0.038521866966130205),\n",
       " ('aleksa', 0.03596414625066864),\n",
       " ('creationism', 0.03317749948871801),\n",
       " ('amateur', 0.030783871487701616),\n",
       " ('mass', 0.02787845056493373),\n",
       " ('kenan', 0.02702472356356211),\n",
       " ('mercury', 0.024571806729432353),\n",
       " ('disco', 0.02028202951012102),\n",
       " ('brar', 0.019413436705964314),\n",
       " ('gmp', 0.016871096175057724),\n",
       " ('broadway', 0.015960650952657026),\n",
       " ('almost', 0.01582816188406798),\n",
       " ('impressive', 0.015018716777948346),\n",
       " ('classics', 0.013689830700366811),\n",
       " ('alma', 0.013543363899627993),\n",
       " ('creativebuttonart', 0.01216482898055987)]"
      ]
     },
     "execution_count": 189,
     "metadata": {},
     "output_type": "execute_result"
    }
   ],
   "source": [
    "feature_names=tfidf.get_feature_names()\n",
    "w=model.feature_importances_\n",
    "top_f=zip(feature_names,w)\n",
    "top_new=list(top_f)\n",
    "top_new.sort(reverse=True,key=lambda x:x[1])\n",
    "top_20=top_new[0:20]\n",
    "print(\"Top 20 Features According to Random Forest:\")\n",
    "print(\"********************************************\")\n",
    "top_20"
   ]
  },
  {
   "cell_type": "code",
   "execution_count": null,
   "metadata": {},
   "outputs": [],
   "source": []
  }
 ],
 "metadata": {
  "kernelspec": {
   "display_name": "Python 3",
   "language": "python",
   "name": "python3"
  },
  "language_info": {
   "codemirror_mode": {
    "name": "ipython",
    "version": 3
   },
   "file_extension": ".py",
   "mimetype": "text/x-python",
   "name": "python",
   "nbconvert_exporter": "python",
   "pygments_lexer": "ipython3",
   "version": "3.6.1"
  }
 },
 "nbformat": 4,
 "nbformat_minor": 2
}
